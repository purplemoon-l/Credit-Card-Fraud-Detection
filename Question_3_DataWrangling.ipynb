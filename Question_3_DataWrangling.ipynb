{
 "cells": [
  {
   "cell_type": "code",
   "execution_count": 110,
   "id": "74ab03ad-8c90-428e-94f7-ff5299ac1813",
   "metadata": {},
   "outputs": [],
   "source": [
    "import pandas as pd\n",
    "import numpy as np\n",
    "import seaborn as sns\n",
    "from datetime import datetime\n",
    "import matplotlib.pyplot as plt"
   ]
  },
  {
   "cell_type": "code",
   "execution_count": 96,
   "id": "469f624d-2c20-4ec5-bf1e-f34032435d83",
   "metadata": {},
   "outputs": [
    {
     "name": "stdout",
     "output_type": "stream",
     "text": [
      "Index(['accountNumber', 'customerId', 'creditLimit', 'availableMoney',\n",
      "       'transactionDateTime', 'transactionAmount', 'merchantName',\n",
      "       'acqCountry', 'merchantCountryCode', 'posEntryMode', 'posConditionCode',\n",
      "       'merchantCategoryCode', 'currentExpDate', 'accountOpenDate',\n",
      "       'dateOfLastAddressChange', 'cardCVV', 'enteredCVV', 'cardLast4Digits',\n",
      "       'transactionType', 'echoBuffer', 'currentBalance', 'merchantCity',\n",
      "       'merchantState', 'merchantZip', 'cardPresent', 'posOnPremises',\n",
      "       'recurringAuthInd', 'expirationDateKeyInMatch', 'isFraud'],\n",
      "      dtype='object')\n",
      "Total Count of proposed primary key 786363\n",
      "Total Count of df 786363\n",
      "2016-08-13 14:27:32_737265056_1803_False_Uber_98.55_PURCHASE\n"
     ]
    }
   ],
   "source": [
    "df = pd.read_csv(\"./data/transaction_df.csv\", index_col=0,parse_dates=['transactionDateTime'])\n",
    "print(df.columns)\n",
    "# As proposed in Question_1_Load\n",
    "df[\"Primary_key\"] = df[\"transactionDateTime\"].astype(str)+\"_\"+df[\"accountNumber\"].astype(str)+\"_\"+df[\"cardLast4Digits\"].astype(str)+\"_\"+df[\"cardPresent\"].astype(str)+\"_\"+df[\"merchantName\"].astype(str)+\"_\"+df[\"transactionAmount\"].astype(str)+\"_\"+df[\"transactionType\"].astype(str)\n",
    "print(\"Total Count of proposed primary key\",len(df[\"Primary_key\"].unique()))\n",
    "print(\"Total Count of df\",len(df))\n",
    "\n",
    "df[\"MultiSwipe_Transaction\"] = 0"
   ]
  },
  {
   "cell_type": "markdown",
   "id": "458b5b08-1ca6-4707-913f-c6061025212c",
   "metadata": {},
   "source": [
    "## Question 3: Data Wrangling - Duplicate Transactions"
   ]
  },
  {
   "cell_type": "markdown",
   "id": "ccbd9ab3-c164-47d8-b758-c28273806e2e",
   "metadata": {},
   "source": [
    "#### Can you programmatically identify reversed and multi-swipe transactions?"
   ]
  },
  {
   "cell_type": "markdown",
   "id": "18c0d0c7-8924-4714-8626-dfc3052dffc9",
   "metadata": {},
   "source": [
    "Yes"
   ]
  },
  {
   "cell_type": "markdown",
   "id": "bb385b9b-47ba-4ef5-a0d5-b2a0842fde2a",
   "metadata": {},
   "source": [
    "Reverse Transaction Conditions\n",
    "Purchase is followed by a reversal\n",
    "- Same Merchant\n",
    "    - Same Account Number\n",
    "        - Same transactionAmount\n",
    "            - Transaction Type Reverse and Purchase"
   ]
  },
  {
   "cell_type": "code",
   "execution_count": 114,
   "id": "3997a8b7-37c1-4599-a7f2-a677a642da7c",
   "metadata": {},
   "outputs": [
    {
     "name": "stdout",
     "output_type": "stream",
     "text": [
      "20303\n"
     ]
    }
   ],
   "source": [
    "print(len(df[df[\"transactionType\"]==\"REVERSAL\"]))"
   ]
  },
  {
   "cell_type": "code",
   "execution_count": 115,
   "id": "ed3ae7c3-3dc5-426d-98f5-d7e41ae1013b",
   "metadata": {},
   "outputs": [],
   "source": [
    "count_reversal = 0\n",
    "count_reversal_only = 0\n",
    "count_reversal_amount = 0\n",
    "for merchant in df[\"merchantName\"].unique():\n",
    "    df_merchant = df[df[\"merchantName\"]==merchant]\n",
    "    for accountnumber in df_merchant[\"accountNumber\"].unique():\n",
    "        df_accountnumber = df_merchant[df_merchant[\"accountNumber\"]==accountnumber]        \n",
    "        flag_purchase = 0\n",
    "        flag_reversal = 0\n",
    "        for transaction_amount in df_accountnumber[\"transactionAmount\"].unique():\n",
    "            df_transactiontype = df_accountnumber[df_accountnumber[\"transactionAmount\"]==transaction_amount]\n",
    "            for transaction_type in df_transactiontype[\"transactionType\"].unique():\n",
    "                    if transaction_type == \"PURCHASE\":\n",
    "                        flag_purchase = 1\n",
    "                    elif transaction_type == \"REVERSAL\":\n",
    "                        flag_reversal = 1\n",
    "            \n",
    "        if flag_purchase==1 and flag_reversal ==1:\n",
    "            count_reversal_amount +=transaction_amount\n",
    "            count_reversal+=1\n",
    "            \n",
    "        if flag_reversal ==1:\n",
    "            count_reversal_only+=1\n",
    "                                        "
   ]
  },
  {
   "cell_type": "code",
   "execution_count": 120,
   "id": "41f29985-7103-46f0-b48d-096faa11a74d",
   "metadata": {},
   "outputs": [
    {
     "name": "stdout",
     "output_type": "stream",
     "text": [
      "14403\n",
      "14508\n",
      "Total Reversal Amount 2111586.0700000003\n"
     ]
    }
   ],
   "source": [
    "print(count_reversal)\n",
    "print(count_reversal_only)\n",
    "print(\"Total Reversal Amount\",count_reversal_amount)"
   ]
  },
  {
   "cell_type": "markdown",
   "id": "bde93b2d-ceae-44fd-a4f7-30798adb0e58",
   "metadata": {},
   "source": [
    "MultiSwipe Transaction Conditions:\n",
    "- Purchase Transaction Type\n",
    "    - Same Merchant \n",
    "        - Same Account Number\n",
    "            - Same last 4 digit Card Number\n",
    "                - Same transactionAmount\n",
    "                    - TimeStamp similar"
   ]
  },
  {
   "cell_type": "code",
   "execution_count": 99,
   "id": "db980fb1-7dcc-4946-9721-8a6cec5b47f6",
   "metadata": {},
   "outputs": [],
   "source": [
    "count = 0\n",
    "total_sum = 0\n",
    "multiswipe_transaction = {}\n",
    "df_transactiontype = df[df[\"transactionType\"]==\"PURCHASE\"] \n",
    "for merchant in df_transactiontype[\"merchantName\"].unique():\n",
    "    df_merchant = df_transactiontype[df_transactiontype[\"merchantName\"]==merchant]\n",
    "\n",
    "    for accountnumber in df_merchant[\"accountNumber\"].unique():\n",
    "        df_accountnumber = df_merchant[df_merchant[\"accountNumber\"]==accountnumber]  \n",
    "        \n",
    "        for cardnumber in df_accountnumber[\"cardLast4Digits\"].unique():\n",
    "            df_cardnumber = df_accountnumber[df_accountnumber[\"cardLast4Digits\"]==cardnumber]\n",
    "\n",
    "            for transactionamt in df_cardnumber[\"transactionAmount\"].unique():\n",
    "                df_transactionamt = df_cardnumber[df_cardnumber[\"transactionAmount\"]==transactionamt]\n",
    "                df_transactionamt = df_transactionamt.sort_values(by='transactionDateTime', ascending=True)\n",
    "\n",
    "                df_transactionamt.reset_index(inplace=True) # sort the transaction based on datetime so that we can choose the first transaction\n",
    "                date_x = df_transactionamt[\"transactionDateTime\"][0] #choose the first transaction as legit transaction\n",
    "                for date_y in df_transactionamt[\"transactionDateTime\"]: \n",
    "                    if (date_y-date_x).total_seconds()<1200 and (date_y-date_x).total_seconds()>0:  #All transaction with the same merchant name, transaction amount and time within 20min of initial transaction \n",
    "                            count+=1;\n",
    "                            if accountnumber not in multiswipe_transaction.keys():\n",
    "                                multiswipe_transaction[accountnumber] = 0\n",
    "\n",
    "                            multiswipe_transaction[accountnumber]+=transactionamt\n",
    "                            total_sum+=transactionamt\n",
    "                    elif (date_y-date_x).total_seconds()>1200: #If the same customer goes twice to a shop not within the period of 20 min the new transaction should be taken as the legit and after that as multiswipe\n",
    "                        date_x = date_y\n"
   ]
  },
  {
   "cell_type": "code",
   "execution_count": 68,
   "id": "97d13f71-79ab-48fd-a2fe-f7fb6f516586",
   "metadata": {},
   "outputs": [
    {
     "name": "stdout",
     "output_type": "stream",
     "text": [
      "Total Number of such multiswipe transaction 7450\n"
     ]
    }
   ],
   "source": [
    "print(\"Total Number of such multiswipe transaction\",count)"
   ]
  },
  {
   "cell_type": "markdown",
   "id": "67e7297c-d604-4c86-b67d-bf0d520d5469",
   "metadata": {},
   "source": [
    "Problem : We might lose out on transactions when customer forgets to purchase something during the first transaction and is purchasing again with the same amount as previous one - in this case it will be considered as multiswipe and not 2 legit transaction if they are both done withing 20min"
   ]
  },
  {
   "cell_type": "code",
   "execution_count": 64,
   "id": "3eac3f4d-9c50-4fe1-8f6a-51fdcbf83d1b",
   "metadata": {},
   "outputs": [
    {
     "name": "stdout",
     "output_type": "stream",
     "text": [
      "Example of a valid Multiswipe\n"
     ]
    },
    {
     "data": {
      "text/html": [
       "<div>\n",
       "<style scoped>\n",
       "    .dataframe tbody tr th:only-of-type {\n",
       "        vertical-align: middle;\n",
       "    }\n",
       "\n",
       "    .dataframe tbody tr th {\n",
       "        vertical-align: top;\n",
       "    }\n",
       "\n",
       "    .dataframe thead th {\n",
       "        text-align: right;\n",
       "    }\n",
       "</style>\n",
       "<table border=\"1\" class=\"dataframe\">\n",
       "  <thead>\n",
       "    <tr style=\"text-align: right;\">\n",
       "      <th></th>\n",
       "      <th>accountNumber</th>\n",
       "      <th>customerId</th>\n",
       "      <th>creditLimit</th>\n",
       "      <th>availableMoney</th>\n",
       "      <th>transactionDateTime</th>\n",
       "      <th>transactionAmount</th>\n",
       "      <th>merchantName</th>\n",
       "      <th>acqCountry</th>\n",
       "      <th>merchantCountryCode</th>\n",
       "      <th>posEntryMode</th>\n",
       "      <th>...</th>\n",
       "      <th>echoBuffer</th>\n",
       "      <th>currentBalance</th>\n",
       "      <th>merchantCity</th>\n",
       "      <th>merchantState</th>\n",
       "      <th>merchantZip</th>\n",
       "      <th>cardPresent</th>\n",
       "      <th>posOnPremises</th>\n",
       "      <th>recurringAuthInd</th>\n",
       "      <th>expirationDateKeyInMatch</th>\n",
       "      <th>isFraud</th>\n",
       "    </tr>\n",
       "  </thead>\n",
       "  <tbody>\n",
       "    <tr>\n",
       "      <th>16868</th>\n",
       "      <td>863456981</td>\n",
       "      <td>863456981</td>\n",
       "      <td>10000</td>\n",
       "      <td>6512.50</td>\n",
       "      <td>2016-04-08 12:59:30</td>\n",
       "      <td>136.37</td>\n",
       "      <td>Lyft</td>\n",
       "      <td>US</td>\n",
       "      <td>US</td>\n",
       "      <td>9.0</td>\n",
       "      <td>...</td>\n",
       "      <td>NaN</td>\n",
       "      <td>3487.50</td>\n",
       "      <td>NaN</td>\n",
       "      <td>NaN</td>\n",
       "      <td>NaN</td>\n",
       "      <td>False</td>\n",
       "      <td>NaN</td>\n",
       "      <td>NaN</td>\n",
       "      <td>False</td>\n",
       "      <td>False</td>\n",
       "    </tr>\n",
       "    <tr>\n",
       "      <th>16869</th>\n",
       "      <td>863456981</td>\n",
       "      <td>863456981</td>\n",
       "      <td>10000</td>\n",
       "      <td>6376.13</td>\n",
       "      <td>2016-04-08 12:59:53</td>\n",
       "      <td>136.37</td>\n",
       "      <td>Lyft</td>\n",
       "      <td>US</td>\n",
       "      <td>US</td>\n",
       "      <td>9.0</td>\n",
       "      <td>...</td>\n",
       "      <td>NaN</td>\n",
       "      <td>3623.87</td>\n",
       "      <td>NaN</td>\n",
       "      <td>NaN</td>\n",
       "      <td>NaN</td>\n",
       "      <td>False</td>\n",
       "      <td>NaN</td>\n",
       "      <td>NaN</td>\n",
       "      <td>False</td>\n",
       "      <td>False</td>\n",
       "    </tr>\n",
       "    <tr>\n",
       "      <th>16870</th>\n",
       "      <td>863456981</td>\n",
       "      <td>863456981</td>\n",
       "      <td>10000</td>\n",
       "      <td>6239.76</td>\n",
       "      <td>2016-04-08 13:01:40</td>\n",
       "      <td>136.37</td>\n",
       "      <td>Lyft</td>\n",
       "      <td>US</td>\n",
       "      <td>US</td>\n",
       "      <td>9.0</td>\n",
       "      <td>...</td>\n",
       "      <td>NaN</td>\n",
       "      <td>3760.24</td>\n",
       "      <td>NaN</td>\n",
       "      <td>NaN</td>\n",
       "      <td>NaN</td>\n",
       "      <td>False</td>\n",
       "      <td>NaN</td>\n",
       "      <td>NaN</td>\n",
       "      <td>False</td>\n",
       "      <td>False</td>\n",
       "    </tr>\n",
       "  </tbody>\n",
       "</table>\n",
       "<p>3 rows × 29 columns</p>\n",
       "</div>"
      ],
      "text/plain": [
       "       accountNumber  customerId  creditLimit  availableMoney  \\\n",
       "16868      863456981   863456981        10000         6512.50   \n",
       "16869      863456981   863456981        10000         6376.13   \n",
       "16870      863456981   863456981        10000         6239.76   \n",
       "\n",
       "      transactionDateTime  transactionAmount merchantName acqCountry  \\\n",
       "16868 2016-04-08 12:59:30             136.37         Lyft         US   \n",
       "16869 2016-04-08 12:59:53             136.37         Lyft         US   \n",
       "16870 2016-04-08 13:01:40             136.37         Lyft         US   \n",
       "\n",
       "      merchantCountryCode  posEntryMode  ...  echoBuffer currentBalance  \\\n",
       "16868                  US           9.0  ...         NaN        3487.50   \n",
       "16869                  US           9.0  ...         NaN        3623.87   \n",
       "16870                  US           9.0  ...         NaN        3760.24   \n",
       "\n",
       "      merchantCity merchantState merchantZip  cardPresent  posOnPremises  \\\n",
       "16868          NaN           NaN         NaN        False            NaN   \n",
       "16869          NaN           NaN         NaN        False            NaN   \n",
       "16870          NaN           NaN         NaN        False            NaN   \n",
       "\n",
       "       recurringAuthInd expirationDateKeyInMatch  isFraud  \n",
       "16868               NaN                    False    False  \n",
       "16869               NaN                    False    False  \n",
       "16870               NaN                    False    False  \n",
       "\n",
       "[3 rows x 29 columns]"
      ]
     },
     "execution_count": 64,
     "metadata": {},
     "output_type": "execute_result"
    }
   ],
   "source": [
    "print(\"Example of a valid Multiswipe\")\n",
    "df[df[\"accountNumber\"]==863456981][df[df[\"accountNumber\"]==863456981][\"merchantName\"]=='Lyft']  [df[df[\"accountNumber\"]==863456981][df[df[\"accountNumber\"]==863456981][\"merchantName\"]=='Lyft']  [\"transactionAmount\"]==136.37]"
   ]
  },
  {
   "cell_type": "markdown",
   "id": "37d43e0f-d642-43a9-a3f9-6617046f9aa6",
   "metadata": {},
   "source": [
    "Further Investigation : I also wanted to add another column for Multiwise and Reversal transaction with bool type that identifies if its one of them"
   ]
  },
  {
   "cell_type": "code",
   "execution_count": 119,
   "id": "757d314c-d574-4290-87b8-471eccb68a3b",
   "metadata": {},
   "outputs": [
    {
     "name": "stdout",
     "output_type": "stream",
     "text": [
      "For every account\n",
      "For account number =  114896048 Total Dollars in sum 919.19\n",
      "For account number =  101380713 Total Dollars in sum 504.43000000000006\n",
      "For account number =  205681025 Total Dollars in sum 341.75\n",
      "For account number =  731428616 Total Dollars in sum 93.45\n",
      "For account number =  863456981 Total Dollars in sum 1719.1099999999997\n"
     ]
    }
   ],
   "source": [
    "print(\"For every account\")\n",
    "n = 0\n",
    "for key, values in multiswipe_transaction.items():\n",
    "    n+=1;\n",
    "    print(\"For account number = \",key, \"Total Dollars in sum\", values)\n",
    "    if n==5:\n",
    "        break"
   ]
  },
  {
   "cell_type": "code",
   "execution_count": 112,
   "id": "9414fe50-f314-4d49-abef-3f86f4f858d6",
   "metadata": {},
   "outputs": [
    {
     "name": "stdout",
     "output_type": "stream",
     "text": [
      "Total_amount 1103132.2500000033\n"
     ]
    }
   ],
   "source": [
    "print(\"Total_amount\",total_sum)"
   ]
  },
  {
   "cell_type": "markdown",
   "id": "d15a1f9b-0dc5-494d-9943-ab2db5ce3920",
   "metadata": {},
   "source": [
    "What total number of transactions and total dollar amount do you estimate for the reversed transactions? For the multi-swipe transactions? (please consider the first transaction to be \"normal\" and exclude it from the number of transaction and dollar amount counts)"
   ]
  },
  {
   "cell_type": "markdown",
   "id": "488f6f24-fd75-4f8e-b746-95f489357820",
   "metadata": {},
   "source": [
    "#### Reversal Transaction\n",
    "Dollar amount = $2111586.0700000003\n",
    "\n",
    "No Of such Reversal Transaction = 14403\n",
    "\n",
    "\n",
    "#### MultiSwipe Transaction\n",
    "Dollar amount = $1103132.2500000033\n",
    "\n",
    "No Of such Reversal Transaction = 7450"
   ]
  },
  {
   "cell_type": "markdown",
   "id": "fa2ecf68-1706-4943-9b35-6cfd40b08b3a",
   "metadata": {},
   "source": [
    "Interesting About Such Transaction\n",
    "1. Same Card and same account number at the same type can have multiple transaction at different merchants\n",
    "2. Further Investigation : BY what time does the reversal transaction money get reflected\n",
    "3. To change Multiswipe I can just add mutliple Reversal columns and add to the balance"
   ]
  },
  {
   "cell_type": "markdown",
   "id": "70a2b223-d8bb-46eb-914e-7b77621a436d",
   "metadata": {},
   "source": [
    "### Questions"
   ]
  },
  {
   "cell_type": "markdown",
   "id": "3eeaffc8-234c-44b2-a97a-31ea07ede00c",
   "metadata": {},
   "source": [
    "1. Reversal transactions and the above algorithm. why different - which case is not being satisfied - further investigate"
   ]
  },
  {
   "cell_type": "code",
   "execution_count": null,
   "id": "77dda853-9619-4e9d-8f98-12e2c0ffd194",
   "metadata": {},
   "outputs": [],
   "source": []
  }
 ],
 "metadata": {
  "kernelspec": {
   "display_name": "Python 3 (ipykernel)",
   "language": "python",
   "name": "python3"
  },
  "language_info": {
   "codemirror_mode": {
    "name": "ipython",
    "version": 3
   },
   "file_extension": ".py",
   "mimetype": "text/x-python",
   "name": "python",
   "nbconvert_exporter": "python",
   "pygments_lexer": "ipython3",
   "version": "3.8.9"
  }
 },
 "nbformat": 4,
 "nbformat_minor": 5
}
